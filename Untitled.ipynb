{
 "cells": [
  {
   "cell_type": "code",
   "execution_count": 1,
   "id": "9652755e-e147-4b93-8175-e4e504b689ba",
   "metadata": {
    "tags": []
   },
   "outputs": [
    {
     "name": "stdout",
     "output_type": "stream",
     "text": [
      "2.9.1\n"
     ]
    }
   ],
   "source": [
    "import tensorflow as tf\n",
    "\n",
    "print(tf.__version__)\n"
   ]
  },
  {
   "cell_type": "code",
   "execution_count": 2,
   "id": "cbdceb64-4e55-495a-ab3e-f6f1a1acda73",
   "metadata": {
    "tags": []
   },
   "outputs": [
    {
     "name": "stdout",
     "output_type": "stream",
     "text": [
      "INFO line 27:0: Renamed 'tf.set_random_seed' to 'tf.compat.v1.set_random_seed'\n",
      "INFO line 49:20: Renamed 'tf.Session' to 'tf.compat.v1.Session'\n",
      "INFO line 49:38: Renamed 'tf.ConfigProto' to 'tf.compat.v1.ConfigProto'\n",
      "INFO line 56:20: Renamed 'tf.placeholder' to 'tf.compat.v1.placeholder'\n",
      "INFO line 57:20: Renamed 'tf.placeholder' to 'tf.compat.v1.placeholder'\n",
      "INFO line 58:20: Renamed 'tf.placeholder' to 'tf.compat.v1.placeholder'\n",
      "INFO line 63:20: Added keywords to args of function 'tf.reduce_mean'\n",
      "INFO line 64:20: Added keywords to args of function 'tf.reduce_mean'\n",
      "ERROR line 66:25: Using member tf.contrib.opt.ScipyOptimizerInterface in deprecated module tf.contrib. tf.contrib.opt.ScipyOptimizerInterface cannot be converted automatically. tf.contrib will not be distributed with TensorFlow 2.0, please consider an alternative in non-contrib TensorFlow, a community-maintained repository such as tensorflow/addons, or fork the required code.\n",
      "INFO line 75:30: Renamed 'tf.train.AdamOptimizer' to 'tf.compat.v1.train.AdamOptimizer'\n",
      "INFO line 78:15: Renamed 'tf.global_variables_initializer' to 'tf.compat.v1.global_variables_initializer'\n",
      "INFO line 96:27: Renamed 'tf.truncated_normal' to 'tf.random.truncated_normal'\n",
      "INFO line 122:14: Added keywords to args of function 'tf.gradients'\n",
      "INFO line 123:15: Added keywords to args of function 'tf.gradients'\n",
      "TensorFlow 2.0 Upgrade Script\n",
      "-----------------------------\n",
      "Converted 1 files\n",
      "Detected 1 issues that require attention\n",
      "--------------------------------------------------------------------------------\n",
      "--------------------------------------------------------------------------------\n",
      "File: continuous_time_inference/swingEquation_inference.py\n",
      "--------------------------------------------------------------------------------\n",
      "continuous_time_inference/swingEquation_inference.py:66:25: ERROR: Using member tf.contrib.opt.ScipyOptimizerInterface in deprecated module tf.contrib. tf.contrib.opt.ScipyOptimizerInterface cannot be converted automatically. tf.contrib will not be distributed with TensorFlow 2.0, please consider an alternative in non-contrib TensorFlow, a community-maintained repository such as tensorflow/addons, or fork the required code.\n",
      "\n",
      "\n",
      "Make sure to read the detailed log 'report.txt'\n",
      "\n"
     ]
    },
    {
     "name": "stderr",
     "output_type": "stream",
     "text": [
      "2023-03-03 00:40:09.492783: W tensorflow/stream_executor/platform/default/dso_loader.cc:64] Could not load dynamic library 'cudart64_110.dll'; dlerror: cudart64_110.dll not found\n",
      "2023-03-03 00:40:09.492824: I tensorflow/stream_executor/cuda/cudart_stub.cc:29] Ignore above cudart dlerror if you do not have a GPU set up on your machine.\n"
     ]
    }
   ],
   "source": [
    "!tf_upgrade_v2 \\\n",
    "  --infile continuous_time_inference/swingEquation_inference.py \\\n",
    "  --outfile continuous_time_inference/swingEquation_inference_v2.py"
   ]
  },
  {
   "cell_type": "code",
   "execution_count": null,
   "id": "98544e0e-63cd-49f9-9859-5b0af1b622b4",
   "metadata": {},
   "outputs": [],
   "source": []
  }
 ],
 "metadata": {
  "kernelspec": {
   "display_name": "Python 3 (ipykernel)",
   "language": "python",
   "name": "python3"
  },
  "language_info": {
   "codemirror_mode": {
    "name": "ipython",
    "version": 3
   },
   "file_extension": ".py",
   "mimetype": "text/x-python",
   "name": "python",
   "nbconvert_exporter": "python",
   "pygments_lexer": "ipython3",
   "version": "3.10.5"
  }
 },
 "nbformat": 4,
 "nbformat_minor": 5
}
